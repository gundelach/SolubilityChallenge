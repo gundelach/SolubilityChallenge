{
 "cells": [
  {
   "cell_type": "markdown",
   "metadata": {},
   "source": [
    "# Random forest algorithm"
   ]
  },
  {
   "cell_type": "markdown",
   "metadata": {},
   "source": [
    "## Naive"
   ]
  },
  {
   "cell_type": "code",
   "execution_count": 186,
   "metadata": {},
   "outputs": [],
   "source": [
    "import pandas as pd\n",
    "import numpy as np\n",
    "import matplotlib.pyplot as plt\n",
    "import math\n",
    "from sklearn import linear_model\n",
    "from sklearn.metrics import mean_squared_error\n",
    "from sklearn.metrics import r2_score\n",
    "from sklearn.preprocessing import StandardScaler\n",
    "from sklearn.decomposition import PCA\n",
    "\n",
    "from sklearn.ensemble import RandomForestRegressor\n",
    "\n",
    "def trim_axs(axs, N):\n",
    "    \"\"\"little helper to massage the axs list to have correct length...\"\"\"\n",
    "    axs = axs.flat\n",
    "    for ax in axs[N:]:\n",
    "        ax.remove()\n",
    "    return axs[:N]"
   ]
  },
  {
   "cell_type": "code",
   "execution_count": 187,
   "metadata": {},
   "outputs": [],
   "source": [
    "def model_pred_eval(y_pred,y_test):\n",
    "    error_non_abs = y_pred - y_test\n",
    "    error = abs(y_pred - y_test)\n",
    "    mean_abs_error=np.mean(error)\n",
    "    median_abs_error=np.median(error)\n",
    "    print('Mean abs error: ', mean_abs_error)\n",
    "    print('Median abs error: ', median_abs_error)\n",
    "    abs_percent_error = 100 * (error/y_test)\n",
    "    accuracy = 100 - np.median(abs_percent_error)\n",
    "    print ('Accuracy from median: ',accuracy, '%')\n",
    "    R2= r2_score(y_test,y_pred)\n",
    "    print (\"R2 value is: \", R2)\n",
    "    print ('Mean squared error: ',mean_squared_error(y_test,y_pred))\n",
    "    return"
   ]
  },
  {
   "cell_type": "code",
   "execution_count": 188,
   "metadata": {},
   "outputs": [],
   "source": [
    "df = pd.read_csv('../data/raw/training_subset.csv')\n",
    "clean_test = pd.read_csv('../data/processed/test_subset.csv')\n",
    "desc_list=['MW', 'Sv', 'Si', 'nROH', 'nOHp', 'nHDon', 'nHAcc', 'Hy', 'MLOGP', 'ALOGP']\n",
    "target = 'S0 (mM)'"
   ]
  },
  {
   "cell_type": "code",
   "execution_count": 189,
   "metadata": {},
   "outputs": [],
   "source": [
    "y = np.log(df.loc[:,target].values)\n",
    "y_test= np.log(clean_test.loc[:,target].values)"
   ]
  },
  {
   "cell_type": "code",
   "execution_count": 190,
   "metadata": {},
   "outputs": [],
   "source": [
    "X = df.loc[:,desc_list].values\n",
    "X_test=clean_test.loc[:,desc_list].values"
   ]
  },
  {
   "cell_type": "code",
   "execution_count": 191,
   "metadata": {},
   "outputs": [
    {
     "name": "stdout",
     "output_type": "stream",
     "text": [
      "Score on training set 0.924465345758411\n",
      "Mean abs error:  2.1399466570820374\n",
      "Median abs error:  1.6716203035362645\n",
      "Accuracy from median:  72.82241338159847 %\n",
      "R2 value is:  0.1967652517330617\n",
      "Mean squared error:  7.890675166911714\n"
     ]
    }
   ],
   "source": [
    "rf = RandomForestRegressor(n_estimators = 1000, random_state = 42)\n",
    "rf.fit(X,y)\n",
    "y_pred = rf.predict(X_test)\n",
    "print ('Score on training set', rf.score(X,y) )\n",
    "model_pred_eval(y_pred,y_test)"
   ]
  },
  {
   "cell_type": "markdown",
   "metadata": {},
   "source": [
    "## Using normalisation"
   ]
  },
  {
   "cell_type": "code",
   "execution_count": 192,
   "metadata": {},
   "outputs": [],
   "source": [
    "X = df.loc[:,desc_list].values\n",
    "X_test=clean_test.loc[:,desc_list].values\n",
    "# Scale X\n",
    "normalize = StandardScaler()\n",
    "normalize.fit(X)\n",
    "X = normalize.transform(X)\n",
    "X_test=normalize.transform(X_test)"
   ]
  },
  {
   "cell_type": "code",
   "execution_count": 193,
   "metadata": {},
   "outputs": [
    {
     "name": "stdout",
     "output_type": "stream",
     "text": [
      "Score on training set 0.924412426715322\n",
      "Mean abs error:  2.135996577367927\n",
      "Median abs error:  1.6716203035362645\n",
      "Accuracy from median:  73.68159423813178 %\n",
      "R2 value is:  0.19764329063864428\n",
      "Mean squared error:  7.882049643921316\n"
     ]
    }
   ],
   "source": [
    "rf = RandomForestRegressor(n_estimators = 1000, random_state = 42)\n",
    "rf.fit(X,y)\n",
    "y_pred = rf.predict(X_test)\n",
    "print ('Score on training set', rf.score(X,y) )\n",
    "model_pred_eval(y_pred,y_test)"
   ]
  },
  {
   "cell_type": "code",
   "execution_count": 194,
   "metadata": {},
   "outputs": [
    {
     "data": {
      "text/plain": [
       "<matplotlib.collections.PathCollection at 0x1141be438>"
      ]
     },
     "execution_count": 194,
     "metadata": {},
     "output_type": "execute_result"
    },
    {
     "data": {
      "image/png": "[encoded data removed]",
      "text/plain": [
       "<Figure size 432x288 with 1 Axes>"
      ]
     },
     "metadata": {
      "needs_background": "light"
     },
     "output_type": "display_data"
    }
   ],
   "source": [
    "plt.scatter(y_test,y_pred)"
   ]
  },
  {
   "cell_type": "markdown",
   "metadata": {},
   "source": [
    "no change"
   ]
  },
  {
   "cell_type": "markdown",
   "metadata": {},
   "source": [
    "## Using PCA"
   ]
  },
  {
   "cell_type": "code",
   "execution_count": 217,
   "metadata": {},
   "outputs": [],
   "source": [
    "X = df.loc[:,desc_list].values\n",
    "X_test=clean_test.loc[:,desc_list].values\n",
    "# Scale X\n",
    "normalize = StandardScaler()\n",
    "normalize.fit(X)\n",
    "X = normalize.transform(X)\n",
    "X_test=normalize.transform(X_test)"
   ]
  },
  {
   "cell_type": "code",
   "execution_count": 218,
   "metadata": {},
   "outputs": [],
   "source": [
    "pca = PCA(n_components=10)\n",
    "pca.fit(X)\n",
    "principalComponents =  pca.transform(X)\n",
    "principalComponents_test = pca.transform(X_test)"
   ]
  },
  {
   "cell_type": "code",
   "execution_count": null,
   "metadata": {},
   "outputs": [],
   "source": []
  },
  {
   "cell_type": "code",
   "execution_count": null,
   "metadata": {},
   "outputs": [],
   "source": [
    "rf = RandomForestRegressor(n_estimators = 5000, random_state = 43)\n",
    "rf.fit(principalComponents,y)\n",
    "y_pred = rf.predict(principalComponents_test)\n",
    "print ('Score on training set', rf.score(principalComponents,y) )\n",
    "model_pred_eval(y_pred,y_test)\n",
    "plt.scatter(y_pred,y_test)"
   ]
  },
  {
   "cell_type": "markdown",
   "metadata": {},
   "source": [
    "could calc how likely it is that these are coming from an normal distributiong"
   ]
  },
  {
   "cell_type": "code",
   "execution_count": null,
   "metadata": {},
   "outputs": [],
   "source": []
  },
  {
   "cell_type": "code",
   "execution_count": null,
   "metadata": {},
   "outputs": [],
   "source": []
  }
 ],
 "metadata": {
  "kernelspec": {
   "display_name": "cheminfo_WS1",
   "language": "python",
   "name": "cheminfo_ws1"
  },
  "language_info": {
   "codemirror_mode": {
    "name": "ipython",
    "version": 3
   },
   "file_extension": ".py",
   "mimetype": "text/x-python",
   "name": "python",
   "nbconvert_exporter": "python",
   "pygments_lexer": "ipython3",
   "version": "3.7.3"
  }
 },
 "nbformat": 4,
 "nbformat_minor": 2
}
