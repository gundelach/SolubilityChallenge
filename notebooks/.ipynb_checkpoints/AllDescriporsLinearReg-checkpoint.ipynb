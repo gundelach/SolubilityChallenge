{
 "cells": [
  {
   "cell_type": "markdown",
   "metadata": {},
   "source": [
    "Try using All descriptors to see of this outperforms only the top 4."
   ]
  },
  {
   "cell_type": "code",
   "execution_count": 56,
   "metadata": {},
   "outputs": [],
   "source": [
    "import pandas as pd\n",
    "import numpy as np\n",
    "import matplotlib.pyplot as plt\n",
    "import math\n",
    "from sklearn import linear_model\n",
    "from sklearn.metrics import mean_squared_error\n",
    "from sklearn.metrics import r2_score\n",
    "\n",
    "def trim_axs(axs, N):\n",
    "    \"\"\"little helper to massage the axs list to have correct length...\"\"\"\n",
    "    axs = axs.flat\n",
    "    for ax in axs[N:]:\n",
    "        ax.remove()\n",
    "    return axs[:N]"
   ]
  },
  {
   "cell_type": "code",
   "execution_count": 57,
   "metadata": {},
   "outputs": [],
   "source": [
    "df = pd.read_csv('../data/raw/training_subset.csv')\n",
    "clean_test = pd.read_csv('../data/processed/test_subset.csv')"
   ]
  },
  {
   "cell_type": "code",
   "execution_count": 58,
   "metadata": {},
   "outputs": [],
   "source": [
    "desc_list=['MW', 'Sv', 'Si', 'nROH', 'nOHp', 'nHDon', 'nHAcc', 'Hy', 'MLOGP', 'ALOGP']"
   ]
  },
  {
   "cell_type": "code",
   "execution_count": 59,
   "metadata": {},
   "outputs": [
    {
     "name": "stdout",
     "output_type": "stream",
     "text": [
      "0.3072597976010263\n"
     ]
    }
   ],
   "source": [
    "reg = linear_model.LinearRegression()\n",
    "X = np.array(df.loc[:,desc_list])\n",
    "y=(np.array(df['S0 (mM)'])).reshape(-1,1)\n",
    "reg.fit(X,y)\n",
    "score = reg.score(X,y)\n",
    "print (score)"
   ]
  },
  {
   "cell_type": "code",
   "execution_count": 60,
   "metadata": {},
   "outputs": [
    {
     "name": "stdout",
     "output_type": "stream",
     "text": [
      "228083229.73761338\n",
      "-16.119874646708578\n"
     ]
    }
   ],
   "source": [
    "X_test = np.array(clean_test.loc[:,desc_list])\n",
    "test_predict = reg.predict(X_test)\n",
    "clean_test['predS']=test_predict\n",
    "print (mean_squared_error(clean_test['S0 (mM)'],clean_test['predS']))\n",
    "print (r2_score(clean_test['S0 (mM)'],clean_test['predS']))"
   ]
  },
  {
   "cell_type": "markdown",
   "metadata": {},
   "source": [
    "So a stronger correaltion score but clearly a worse overall description"
   ]
  },
  {
   "cell_type": "markdown",
   "metadata": {},
   "source": [
    "## Look at effect of scaling/standardising the data"
   ]
  },
  {
   "cell_type": "code",
   "execution_count": 61,
   "metadata": {},
   "outputs": [],
   "source": [
    "from sklearn.preprocessing import StandardScaler"
   ]
  },
  {
   "cell_type": "code",
   "execution_count": 62,
   "metadata": {},
   "outputs": [],
   "source": [
    "target = 'S0 (mM)'"
   ]
  },
  {
   "cell_type": "code",
   "execution_count": 63,
   "metadata": {},
   "outputs": [],
   "source": [
    "X = df.loc[:,desc_list].values\n",
    "y = df.loc[:,target].values"
   ]
  },
  {
   "cell_type": "code",
   "execution_count": 64,
   "metadata": {},
   "outputs": [],
   "source": [
    "X = StandardScaler().fit_transform(X)"
   ]
  },
  {
   "cell_type": "code",
   "execution_count": 65,
   "metadata": {},
   "outputs": [
    {
     "name": "stdout",
     "output_type": "stream",
     "text": [
      "0.3072597976010264\n"
     ]
    }
   ],
   "source": [
    "reg = linear_model.LinearRegression()\n",
    "reg.fit(X,y)\n",
    "score = reg.score(X,y)\n",
    "print (score)"
   ]
  },
  {
   "cell_type": "markdown",
   "metadata": {},
   "source": [
    "This is wrong since making new transfromation for X_test.... see correct version below where no change in model is ovserved, as expected."
   ]
  },
  {
   "cell_type": "code",
   "execution_count": 66,
   "metadata": {},
   "outputs": [],
   "source": [
    "X_test=clean_test.loc[:,desc_list].values\n",
    "X_test = StandardScaler().fit_transform(X_test)"
   ]
  },
  {
   "cell_type": "code",
   "execution_count": 67,
   "metadata": {},
   "outputs": [],
   "source": [
    "test_predict = reg.predict(X_test)\n",
    "clean_test['predS']=test_predict"
   ]
  },
  {
   "cell_type": "code",
   "execution_count": 68,
   "metadata": {},
   "outputs": [
    {
     "name": "stdout",
     "output_type": "stream",
     "text": [
      "56565818.221098594\n",
      "-3.2458172762099062\n"
     ]
    }
   ],
   "source": [
    "print (mean_squared_error(clean_test['S0 (mM)'],clean_test['predS']))\n",
    "print (r2_score(clean_test['S0 (mM)'],clean_test['predS']))"
   ]
  },
  {
   "cell_type": "code",
   "execution_count": 70,
   "metadata": {},
   "outputs": [],
   "source": [
    "X = df.loc[:,desc_list].values\n",
    "y = df.loc[:,target].values\n",
    "scaling = StandardScaler().fit(X)\n",
    "X = scaling.transform(X)\n",
    "X_test=clean_test.loc[:,desc_list].values\n",
    "X_test = scaling.transform(X_test)"
   ]
  },
  {
   "cell_type": "code",
   "execution_count": 72,
   "metadata": {},
   "outputs": [
    {
     "name": "stdout",
     "output_type": "stream",
     "text": [
      "0.3072597976010264\n",
      "228083229.73761293\n",
      "-16.119874646708546\n"
     ]
    }
   ],
   "source": [
    "reg = linear_model.LinearRegression()\n",
    "reg.fit(X,y)\n",
    "score = reg.score(X,y)\n",
    "print (score)\n",
    "test_predict = reg.predict(X_test)\n",
    "clean_test['predS']=test_predict\n",
    "print (mean_squared_error(clean_test['S0 (mM)'],clean_test['predS']))\n",
    "print (r2_score(clean_test['S0 (mM)'],clean_test['predS']))"
   ]
  },
  {
   "cell_type": "code",
   "execution_count": null,
   "metadata": {},
   "outputs": [],
   "source": []
  }
 ],
 "metadata": {
  "kernelspec": {
   "display_name": "cheminfo_WS1",
   "language": "python",
   "name": "cheminfo_ws1"
  },
  "language_info": {
   "codemirror_mode": {
    "name": "ipython",
    "version": 3
   },
   "file_extension": ".py",
   "mimetype": "text/x-python",
   "name": "python",
   "nbconvert_exporter": "python",
   "pygments_lexer": "ipython3",
   "version": "3.7.3"
  }
 },
 "nbformat": 4,
 "nbformat_minor": 2
}
