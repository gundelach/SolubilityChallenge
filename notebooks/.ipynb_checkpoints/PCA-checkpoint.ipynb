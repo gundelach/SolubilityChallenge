{
 "cells": [
  {
   "cell_type": "markdown",
   "metadata": {},
   "source": [
    "# PCA analysis"
   ]
  },
  {
   "cell_type": "code",
   "execution_count": 244,
   "metadata": {},
   "outputs": [],
   "source": [
    "import pandas as pd\n",
    "import numpy as np\n",
    "import matplotlib.pyplot as plt\n",
    "import math\n",
    "from sklearn import linear_model\n",
    "from sklearn.metrics import mean_squared_error\n",
    "from sklearn.metrics import r2_score\n",
    "from sklearn.preprocessing import StandardScaler\n",
    "from sklearn.decomposition import PCA\n",
    "\n",
    "def trim_axs(axs, N):\n",
    "    \"\"\"little helper to massage the axs list to have correct length...\"\"\"\n",
    "    axs = axs.flat\n",
    "    for ax in axs[N:]:\n",
    "        ax.remove()\n",
    "    return axs[:N]"
   ]
  },
  {
   "cell_type": "code",
   "execution_count": 245,
   "metadata": {},
   "outputs": [],
   "source": [
    "def model_pred_eval(y_pred,y_test):\n",
    "    error_non_abs = y_pred - y_test\n",
    "    error = abs(y_pred - y_test)\n",
    "    mean_abs_error=np.mean(error)\n",
    "    median_abs_error=np.median(error)\n",
    "    print('Mean abs error: ', mean_abs_error)\n",
    "    print('Median abs error: ', median_abs_error)\n",
    "    abs_percent_error = 100 * (error/y_test)\n",
    "    accuracy = 100 - np.median(abs_percent_error)\n",
    "    print ('Accuracy from median: ',accuracy, '%')\n",
    "    R2= r2_score(y_test,y_pred)\n",
    "    print (\"R2 value is: \", R2)\n",
    "    print ('Mean squared error: ',mean_squared_error(y_test,y_pred))\n",
    "    return"
   ]
  },
  {
   "cell_type": "code",
   "execution_count": 259,
   "metadata": {},
   "outputs": [],
   "source": [
    "df = pd.read_csv('../data/raw/training_subset.csv')\n",
    "clean_test = pd.read_csv('../data/processed/test_subset.csv')\n",
    "desc_list=['MW', 'Sv', 'Si', 'nROH', 'nOHp', 'nHDon', 'nHAcc', 'Hy', 'MLOGP', 'ALOGP']\n",
    "target = 'S0 (mM)'"
   ]
  },
  {
   "cell_type": "code",
   "execution_count": 260,
   "metadata": {},
   "outputs": [],
   "source": [
    "X = df.loc[:,desc_list].values\n",
    "y = np.log(df.loc[:,target].values)\n",
    "X_test=clean_test.loc[:,desc_list].values\n",
    "y_test=np.log(clean_test.loc[:,target].values)"
   ]
  },
  {
   "cell_type": "code",
   "execution_count": 261,
   "metadata": {},
   "outputs": [],
   "source": [
    "# Scale X\n",
    "normalize = StandardScaler()\n",
    "normalize.fit(X)\n",
    "X = normalize.transform(X)\n",
    "X_test=normalize.transform(X_test)\n",
    "#X = StandardScaler().fit_transform(X)"
   ]
  },
  {
   "cell_type": "code",
   "execution_count": 263,
   "metadata": {},
   "outputs": [],
   "source": [
    "pca = PCA(n_components=4)\n",
    "components = ['pc1', 'pc2','pc3','pc4']\n",
    "pca.fit(X)\n",
    "principalComponents =  pca.transform(X) # pca.fit_transform(X)\n",
    "principalComponents_test = pca.transform(X_test)"
   ]
  },
  {
   "cell_type": "code",
   "execution_count": 200,
   "metadata": {},
   "outputs": [
    {
     "data": {
      "text/html": [
       "<div>\n",
       "<style scoped>\n",
       "    .dataframe tbody tr th:only-of-type {\n",
       "        vertical-align: middle;\n",
       "    }\n",
       "\n",
       "    .dataframe tbody tr th {\n",
       "        vertical-align: top;\n",
       "    }\n",
       "\n",
       "    .dataframe thead th {\n",
       "        text-align: right;\n",
       "    }\n",
       "</style>\n",
       "<table border=\"1\" class=\"dataframe\">\n",
       "  <thead>\n",
       "    <tr style=\"text-align: right;\">\n",
       "      <th></th>\n",
       "      <th>pc1</th>\n",
       "      <th>pc2</th>\n",
       "      <th>pc3</th>\n",
       "      <th>pc4</th>\n",
       "      <th>S0 (mM)</th>\n",
       "    </tr>\n",
       "  </thead>\n",
       "  <tbody>\n",
       "    <tr>\n",
       "      <th>0</th>\n",
       "      <td>0.255706</td>\n",
       "      <td>-3.224548</td>\n",
       "      <td>-0.615820</td>\n",
       "      <td>0.198045</td>\n",
       "      <td>10432.300</td>\n",
       "    </tr>\n",
       "    <tr>\n",
       "      <th>1</th>\n",
       "      <td>2.107509</td>\n",
       "      <td>-1.469391</td>\n",
       "      <td>0.028716</td>\n",
       "      <td>-1.575272</td>\n",
       "      <td>842.692</td>\n",
       "    </tr>\n",
       "    <tr>\n",
       "      <th>2</th>\n",
       "      <td>0.666070</td>\n",
       "      <td>-3.102429</td>\n",
       "      <td>-0.682159</td>\n",
       "      <td>0.166705</td>\n",
       "      <td>19312.000</td>\n",
       "    </tr>\n",
       "    <tr>\n",
       "      <th>3</th>\n",
       "      <td>2.247657</td>\n",
       "      <td>-1.093716</td>\n",
       "      <td>0.083216</td>\n",
       "      <td>-1.473868</td>\n",
       "      <td>2397.220</td>\n",
       "    </tr>\n",
       "    <tr>\n",
       "      <th>4</th>\n",
       "      <td>2.146694</td>\n",
       "      <td>-2.183091</td>\n",
       "      <td>-0.548783</td>\n",
       "      <td>0.481458</td>\n",
       "      <td>86329.600</td>\n",
       "    </tr>\n",
       "  </tbody>\n",
       "</table>\n",
       "</div>"
      ],
      "text/plain": [
       "        pc1       pc2       pc3       pc4    S0 (mM)\n",
       "0  0.255706 -3.224548 -0.615820  0.198045  10432.300\n",
       "1  2.107509 -1.469391  0.028716 -1.575272    842.692\n",
       "2  0.666070 -3.102429 -0.682159  0.166705  19312.000\n",
       "3  2.247657 -1.093716  0.083216 -1.473868   2397.220\n",
       "4  2.146694 -2.183091 -0.548783  0.481458  86329.600"
      ]
     },
     "execution_count": 200,
     "metadata": {},
     "output_type": "execute_result"
    }
   ],
   "source": [
    "principalDf = pd.DataFrame(data = principalComponents\n",
    "             , columns = components)\n",
    "pcDf = pd.concat([principalDf, df[[target]]], axis = 1)\n",
    "pcDf.head()"
   ]
  },
  {
   "cell_type": "markdown",
   "metadata": {},
   "source": [
    "now run linear regression using this"
   ]
  },
  {
   "cell_type": "code",
   "execution_count": 264,
   "metadata": {},
   "outputs": [
    {
     "name": "stdout",
     "output_type": "stream",
     "text": [
      "R2 on training set:  0.4049791292241527\n",
      "Mean abs error:  2.5889728173336835\n",
      "Median abs error:  1.6578734104400201\n",
      "Accuracy from median:  70.89664513639693 %\n",
      "R2 value is:  -1.0765274472758053\n",
      "Mean squared error:  20.399022324398356\n"
     ]
    }
   ],
   "source": [
    "#X = pcDf.loc[:,components].values\n",
    "reg = linear_model.LinearRegression()\n",
    "reg.fit(principalComponents,y)\n",
    "score = reg.score(principalComponents,y)\n",
    "y_pred = reg.predict(principalComponents_test)\n",
    "print ('R2 on training set: ', score)\n",
    "model_pred_eval(y_pred,y_test)"
   ]
  },
  {
   "cell_type": "code",
   "execution_count": 265,
   "metadata": {},
   "outputs": [
    {
     "data": {
      "text/plain": [
       "89.29465494904713"
      ]
     },
     "execution_count": 265,
     "metadata": {},
     "output_type": "execute_result"
    }
   ],
   "source": [
    "# percentage of variance accounted for by principle components\n",
    "(np.array(pca.explained_variance_ratio_)*100).sum()"
   ]
  },
  {
   "cell_type": "markdown",
   "metadata": {},
   "source": [
    "How many PCA's needed to cover 95% of variance -- 5"
   ]
  },
  {
   "cell_type": "markdown",
   "metadata": {},
   "source": [
    "Now try with 5"
   ]
  },
  {
   "cell_type": "code",
   "execution_count": 270,
   "metadata": {},
   "outputs": [],
   "source": [
    "X = df.loc[:,desc_list].values\n",
    "X_test=clean_test.loc[:,desc_list].values"
   ]
  },
  {
   "cell_type": "code",
   "execution_count": 271,
   "metadata": {},
   "outputs": [],
   "source": [
    "# Scale X\n",
    "normalize = StandardScaler()\n",
    "normalize.fit(X)\n",
    "X = normalize.transform(X)\n",
    "X_test=normalize.transform(X_test)\n",
    "#X = StandardScaler().fit_transform(X)"
   ]
  },
  {
   "cell_type": "code",
   "execution_count": 272,
   "metadata": {},
   "outputs": [],
   "source": [
    "pca = PCA(n_components=5)\n",
    "components = ['pc1', 'pc2','pc3','pc4','pc5']\n",
    "pca.fit(X)\n",
    "principalComponents =  pca.transform(X) # pca.fit_transform(X)\n",
    "principalComponents_test = pca.transform(X_test)"
   ]
  },
  {
   "cell_type": "code",
   "execution_count": 273,
   "metadata": {},
   "outputs": [
    {
     "data": {
      "text/plain": [
       "array([0.38394919, 0.29808191, 0.12104202, 0.08987343, 0.06448338])"
      ]
     },
     "execution_count": 273,
     "metadata": {},
     "output_type": "execute_result"
    }
   ],
   "source": [
    "pca.explained_variance_ratio_"
   ]
  },
  {
   "cell_type": "markdown",
   "metadata": {},
   "source": [
    "now run linear regression using this"
   ]
  },
  {
   "cell_type": "code",
   "execution_count": 275,
   "metadata": {},
   "outputs": [
    {
     "name": "stdout",
     "output_type": "stream",
     "text": [
      "R2 on training set:  0.47069015442578427\n",
      "Mean abs error:  1.9894261284124668\n",
      "Median abs error:  1.5735910197706349\n",
      "Accuracy from median:  77.72784099159213 %\n",
      "R2 value is:  0.22556403333621566\n",
      "Mean squared error:  7.607766800056796\n"
     ]
    }
   ],
   "source": [
    "\n",
    "reg = linear_model.LinearRegression()\n",
    "reg.fit(principalComponents,y)\n",
    "score = reg.score(principalComponents,y)\n",
    "y_pred = reg.predict(principalComponents_test)\n",
    "print ('R2 on training set: ', score)\n",
    "model_pred_eval(y_pred,y_test)"
   ]
  },
  {
   "cell_type": "code",
   "execution_count": 276,
   "metadata": {},
   "outputs": [
    {
     "data": {
      "text/plain": [
       "95.74299317593133"
      ]
     },
     "execution_count": 276,
     "metadata": {},
     "output_type": "execute_result"
    }
   ],
   "source": [
    "# percentage of variance accounted for by principle components\n",
    "(np.array(pca.explained_variance_ratio_)*100).sum()"
   ]
  },
  {
   "cell_type": "markdown",
   "metadata": {},
   "source": [
    "now 7"
   ]
  },
  {
   "cell_type": "code",
   "execution_count": 313,
   "metadata": {},
   "outputs": [],
   "source": [
    "X = df.loc[:,desc_list].values\n",
    "X_test=clean_test.loc[:,desc_list].values"
   ]
  },
  {
   "cell_type": "code",
   "execution_count": 314,
   "metadata": {},
   "outputs": [],
   "source": [
    "# Scale X\n",
    "normalize = StandardScaler()\n",
    "normalize.fit(X)\n",
    "X = normalize.transform(X)\n",
    "X_test=normalize.transform(X_test)\n",
    "#X = StandardScaler().fit_transform(X)"
   ]
  },
  {
   "cell_type": "code",
   "execution_count": 315,
   "metadata": {},
   "outputs": [],
   "source": [
    "pca = PCA(n_components=8)\n",
    "pca.fit(X)\n",
    "principalComponents =  pca.transform(X) # pca.fit_transform(X)\n",
    "principalComponents_test = pca.transform(X_test)"
   ]
  },
  {
   "cell_type": "code",
   "execution_count": 316,
   "metadata": {},
   "outputs": [
    {
     "data": {
      "text/plain": [
       "array([0.38394919, 0.29808191, 0.12104202, 0.08987343, 0.06448338,\n",
       "       0.0239663 , 0.00950642, 0.00728784])"
      ]
     },
     "execution_count": 316,
     "metadata": {},
     "output_type": "execute_result"
    }
   ],
   "source": [
    "pca.explained_variance_ratio_"
   ]
  },
  {
   "cell_type": "markdown",
   "metadata": {},
   "source": [
    "now run linear regression using this"
   ]
  },
  {
   "cell_type": "code",
   "execution_count": 317,
   "metadata": {},
   "outputs": [
    {
     "name": "stdout",
     "output_type": "stream",
     "text": [
      "R2 on training set:  0.5749266983464216\n",
      "Mean abs error:  1.5917113008777524\n",
      "Median abs error:  1.2913459364702002\n",
      "Accuracy from median:  79.94736675683163 %\n",
      "R2 value is:  0.5208703092835754\n",
      "Mean squared error:  4.706789341999134\n"
     ]
    }
   ],
   "source": [
    "\n",
    "reg = linear_model.LinearRegression()\n",
    "reg.fit(principalComponents,y)\n",
    "score = reg.score(principalComponents,y)\n",
    "y_pred = reg.predict(principalComponents_test)\n",
    "print ('R2 on training set: ', score)\n",
    "model_pred_eval(y_pred,y_test)"
   ]
  },
  {
   "cell_type": "code",
   "execution_count": 302,
   "metadata": {},
   "outputs": [
    {
     "data": {
      "text/plain": [
       "99.8190492357111"
      ]
     },
     "execution_count": 302,
     "metadata": {},
     "output_type": "execute_result"
    }
   ],
   "source": [
    "# percentage of variance accounted for by principle components\n",
    "(np.array(pca.explained_variance_ratio_)*100).sum()"
   ]
  },
  {
   "cell_type": "code",
   "execution_count": 296,
   "metadata": {},
   "outputs": [],
   "source": [
    "# check which number of principle components gives the best result\n",
    "\n"
   ]
  },
  {
   "cell_type": "markdown",
   "metadata": {},
   "source": [
    "## PLS"
   ]
  },
  {
   "cell_type": "code",
   "execution_count": 319,
   "metadata": {},
   "outputs": [],
   "source": [
    "from sklearn.cross_decomposition import PLSRegression\n",
    "from sklearn.metrics import mean_squared_error, r2_score"
   ]
  },
  {
   "cell_type": "code",
   "execution_count": 322,
   "metadata": {},
   "outputs": [],
   "source": [
    "y = np.log(df.loc[:,target].values)\n",
    "y_test= np.log(clean_test.loc[:,target].values)"
   ]
  },
  {
   "cell_type": "code",
   "execution_count": 323,
   "metadata": {},
   "outputs": [],
   "source": [
    "X = df.loc[:,desc_list].values\n",
    "X_test=clean_test.loc[:,desc_list].values\n",
    "# Scale X\n",
    "normalize = StandardScaler()\n",
    "normalize.fit(X)\n",
    "X = normalize.transform(X)\n",
    "X_test=normalize.transform(X_test)\n",
    "#X = StandardScaler().fit_transform(X)"
   ]
  },
  {
   "cell_type": "code",
   "execution_count": 325,
   "metadata": {},
   "outputs": [
    {
     "name": "stdout",
     "output_type": "stream",
     "text": [
      "R2 on training set:  0.6149167886575544\n",
      "Mean abs error:  3.089055494732058\n",
      "Median abs error:  2.6320887137803055\n",
      "Accuracy from median:  59.424802817532246 %\n",
      "R2 value is:  0.46911496622124393\n",
      "Mean squared error:  5.215214308844836\n"
     ]
    },
    {
     "data": {
      "text/plain": [
       "<matplotlib.collections.PathCollection at 0x1123d89e8>"
      ]
     },
     "execution_count": 325,
     "metadata": {},
     "output_type": "execute_result"
    },
    {
     "data": {
      "image/png": "[encoded data removed]",
      "text/plain": [
       "<Figure size 432x288 with 1 Axes>"
      ]
     },
     "metadata": {
      "needs_background": "light"
     },
     "output_type": "display_data"
    }
   ],
   "source": [
    "pls = PLSRegression(n_components=10)\n",
    "pls.fit(X,y)\n",
    "y_pred=pls.predict(X_test)\n",
    "score = pls.score(X,y)\n",
    "print ('R2 on training set: ', score)\n",
    "model_pred_eval(y_pred,y_test)\n",
    "plt.scatter(y_test,y_pred)"
   ]
  },
  {
   "cell_type": "code",
   "execution_count": null,
   "metadata": {},
   "outputs": [],
   "source": []
  },
  {
   "cell_type": "code",
   "execution_count": null,
   "metadata": {},
   "outputs": [],
   "source": []
  }
 ],
 "metadata": {
  "kernelspec": {
   "display_name": "cheminfo_WS1",
   "language": "python",
   "name": "cheminfo_ws1"
  },
  "language_info": {
   "codemirror_mode": {
    "name": "ipython",
    "version": 3
   },
   "file_extension": ".py",
   "mimetype": "text/x-python",
   "name": "python",
   "nbconvert_exporter": "python",
   "pygments_lexer": "ipython3",
   "version": "3.7.3"
  }
 },
 "nbformat": 4,
 "nbformat_minor": 2
}
