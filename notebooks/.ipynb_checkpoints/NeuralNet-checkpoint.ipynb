{
 "cells": [
  {
   "cell_type": "markdown",
   "metadata": {},
   "source": [
    "# Neural Net"
   ]
  },
  {
   "cell_type": "code",
   "execution_count": 104,
   "metadata": {},
   "outputs": [],
   "source": [
    "import pandas as pd\n",
    "import numpy as np\n",
    "import matplotlib.pyplot as plt\n",
    "import math\n",
    "from sklearn import linear_model\n",
    "from sklearn.metrics import mean_squared_error\n",
    "from sklearn.metrics import r2_score\n",
    "from sklearn.preprocessing import StandardScaler\n",
    "from sklearn.decomposition import PCA\n",
    "import pprint as pp\n",
    "\n",
    "from sklearn.neural_network import MLPRegressor\n",
    "\n",
    "def trim_axs(axs, N):\n",
    "    \"\"\"little helper to massage the axs list to have correct length...\"\"\"\n",
    "    axs = axs.flat\n",
    "    for ax in axs[N:]:\n",
    "        ax.remove()\n",
    "    return axs[:N]"
   ]
  },
  {
   "cell_type": "code",
   "execution_count": 101,
   "metadata": {},
   "outputs": [],
   "source": [
    "def model_pred_eval(y_pred,y_test):\n",
    "    stats_dict={}\n",
    "    error = abs(y_pred - y_test)\n",
    "    stats_dict['mean_abs_error']=np.mean(error)\n",
    "    stats_dict['median_abs_error']=np.median(error)\n",
    "    stats_dict['median_accuracy']= 100 - np.median(100 * (error/y_test))\n",
    "    stats_dict['R2']=r2_score(y_test,y_pred)\n",
    "    stats_dict['RMSE']=math.sqrt(mean_squared_error(y_test,y_pred))\n",
    "    stats_dict['min_error']=error.min()\n",
    "    stats_dict['max_error']=error.max()\n",
    "    return stats_dict"
   ]
  },
  {
   "cell_type": "code",
   "execution_count": 97,
   "metadata": {},
   "outputs": [],
   "source": [
    "df = pd.read_csv('../data/raw/training_subset.csv')\n",
    "clean_test = pd.read_csv('../data/processed/test_subset.csv')\n",
    "desc_list=['MW', 'Sv', 'Si', 'nROH', 'nOHp', 'nHDon', 'nHAcc', 'Hy', 'MLOGP', 'ALOGP']\n",
    "target = 'S0 (mM)'"
   ]
  },
  {
   "cell_type": "code",
   "execution_count": 98,
   "metadata": {},
   "outputs": [],
   "source": [
    "y = np.log(df.loc[:,target].values)\n",
    "y_test= np.log(clean_test.loc[:,target].values)"
   ]
  },
  {
   "cell_type": "code",
   "execution_count": 99,
   "metadata": {},
   "outputs": [],
   "source": [
    "X = df.loc[:,desc_list].values\n",
    "X_test=clean_test.loc[:,desc_list].values\n",
    "# Scale X\n",
    "normalize = StandardScaler()\n",
    "normalize.fit(X)\n",
    "X = normalize.transform(X)\n",
    "X_test=normalize.transform(X_test)"
   ]
  },
  {
   "cell_type": "code",
   "execution_count": 105,
   "metadata": {},
   "outputs": [
    {
     "name": "stdout",
     "output_type": "stream",
     "text": [
      "{'R2': -2.248011388598501,\n",
      " 'RMSE': 5.648649276700026,\n",
      " 'max_error': 26.27343599012296,\n",
      " 'mean_abs_error': 2.8996849266244893,\n",
      " 'median_abs_error': 1.4281349251312916,\n",
      " 'median_accuracy': 77.05833746828007,\n",
      " 'min_error': 0.15007373250176048}\n"
     ]
    },
    {
     "data": {
      "text/plain": [
       "<matplotlib.collections.PathCollection at 0x113003940>"
      ]
     },
     "execution_count": 105,
     "metadata": {},
     "output_type": "execute_result"
    },
    {
     "data": {
      "image/png": "[encoded data removed]",
      "text/plain": [
       "<Figure size 432x288 with 1 Axes>"
      ]
     },
     "metadata": {
      "needs_background": "light"
     },
     "output_type": "display_data"
    }
   ],
   "source": [
    "mlp = MLPRegressor(max_iter=50000)\n",
    "mlp.fit(X,y)\n",
    "y_pred = mlp.predict(X_test)\n",
    "stats = model_pred_eval(y_pred,y_test)\n",
    "pp.pprint (stats)\n",
    "plt.scatter(y_pred,y_test)"
   ]
  },
  {
   "cell_type": "markdown",
   "metadata": {},
   "source": [
    "### With PCA"
   ]
  },
  {
   "cell_type": "code",
   "execution_count": null,
   "metadata": {},
   "outputs": [],
   "source": []
  },
  {
   "cell_type": "code",
   "execution_count": 106,
   "metadata": {},
   "outputs": [],
   "source": [
    "X = df.loc[:,desc_list].values\n",
    "X_test=clean_test.loc[:,desc_list].values\n",
    "# Scale X\n",
    "normalize = StandardScaler()\n",
    "normalize.fit(X)\n",
    "X = normalize.transform(X)\n",
    "X_test=normalize.transform(X_test)"
   ]
  },
  {
   "cell_type": "code",
   "execution_count": 107,
   "metadata": {},
   "outputs": [],
   "source": [
    "pca = PCA(n_components=8)\n",
    "pca.fit(X)\n",
    "principalComponents =  pca.transform(X)\n",
    "principalComponents_test = pca.transform(X_test)"
   ]
  },
  {
   "cell_type": "code",
   "execution_count": 108,
   "metadata": {},
   "outputs": [
    {
     "name": "stdout",
     "output_type": "stream",
     "text": [
      "{'R2': 0.18196742482087136,\n",
      " 'RMSE': 2.834791603696797,\n",
      " 'max_error': 9.617823546415192,\n",
      " 'mean_abs_error': 2.061056591858303,\n",
      " 'median_abs_error': 1.4155689592627483,\n",
      " 'median_accuracy': 76.53455320681621,\n",
      " 'min_error': 0.044935643040767026}\n"
     ]
    },
    {
     "data": {
      "text/plain": [
       "<matplotlib.collections.PathCollection at 0x1128d6eb8>"
      ]
     },
     "execution_count": 108,
     "metadata": {},
     "output_type": "execute_result"
    },
    {
     "data": {
      "image/png": "[encoded data removed]",
      "text/plain": [
       "<Figure size 432x288 with 1 Axes>"
      ]
     },
     "metadata": {
      "needs_background": "light"
     },
     "output_type": "display_data"
    }
   ],
   "source": [
    "mlp = MLPRegressor(max_iter=50000)\n",
    "mlp.fit(principalComponents,y)\n",
    "y_pred = mlp.predict(principalComponents_test)\n",
    "stats = model_pred_eval(y_pred,y_test)\n",
    "pp.pprint (stats)\n",
    "plt.scatter(y_pred,y_test)"
   ]
  },
  {
   "cell_type": "markdown",
   "metadata": {},
   "source": [
    "## Try averaging over PCA neural nets"
   ]
  },
  {
   "cell_type": "code",
   "execution_count": 173,
   "metadata": {},
   "outputs": [],
   "source": [
    "X = df.loc[:,desc_list].values\n",
    "X_test=clean_test.loc[:,desc_list].values\n",
    "# Scale X\n",
    "normalize = StandardScaler()\n",
    "normalize.fit(X)\n",
    "X = normalize.transform(X)\n",
    "X_test=normalize.transform(X_test)"
   ]
  },
  {
   "cell_type": "code",
   "execution_count": 174,
   "metadata": {},
   "outputs": [],
   "source": [
    "pca = PCA(n_components=5)\n",
    "pca.fit(X)\n",
    "principalComponents =  pca.transform(X)\n",
    "principalComponents_test = pca.transform(X_test)"
   ]
  },
  {
   "cell_type": "code",
   "execution_count": 175,
   "metadata": {},
   "outputs": [
    {
     "name": "stderr",
     "output_type": "stream",
     "text": [
      "/Users/lennartgundelach/anaconda3/envs/cheminfo_WS1/lib/python3.7/site-packages/sklearn/neural_network/multilayer_perceptron.py:566: ConvergenceWarning: Stochastic Optimizer: Maximum iterations (5000) reached and the optimization hasn't converged yet.\n",
      "  % self.max_iter, ConvergenceWarning)\n",
      "/Users/lennartgundelach/anaconda3/envs/cheminfo_WS1/lib/python3.7/site-packages/sklearn/neural_network/multilayer_perceptron.py:566: ConvergenceWarning: Stochastic Optimizer: Maximum iterations (5000) reached and the optimization hasn't converged yet.\n",
      "  % self.max_iter, ConvergenceWarning)\n",
      "/Users/lennartgundelach/anaconda3/envs/cheminfo_WS1/lib/python3.7/site-packages/sklearn/neural_network/multilayer_perceptron.py:566: ConvergenceWarning: Stochastic Optimizer: Maximum iterations (5000) reached and the optimization hasn't converged yet.\n",
      "  % self.max_iter, ConvergenceWarning)\n",
      "/Users/lennartgundelach/anaconda3/envs/cheminfo_WS1/lib/python3.7/site-packages/sklearn/neural_network/multilayer_perceptron.py:566: ConvergenceWarning: Stochastic Optimizer: Maximum iterations (5000) reached and the optimization hasn't converged yet.\n",
      "  % self.max_iter, ConvergenceWarning)\n",
      "/Users/lennartgundelach/anaconda3/envs/cheminfo_WS1/lib/python3.7/site-packages/sklearn/neural_network/multilayer_perceptron.py:566: ConvergenceWarning: Stochastic Optimizer: Maximum iterations (5000) reached and the optimization hasn't converged yet.\n",
      "  % self.max_iter, ConvergenceWarning)\n",
      "/Users/lennartgundelach/anaconda3/envs/cheminfo_WS1/lib/python3.7/site-packages/sklearn/neural_network/multilayer_perceptron.py:566: ConvergenceWarning: Stochastic Optimizer: Maximum iterations (5000) reached and the optimization hasn't converged yet.\n",
      "  % self.max_iter, ConvergenceWarning)\n",
      "/Users/lennartgundelach/anaconda3/envs/cheminfo_WS1/lib/python3.7/site-packages/sklearn/neural_network/multilayer_perceptron.py:566: ConvergenceWarning: Stochastic Optimizer: Maximum iterations (5000) reached and the optimization hasn't converged yet.\n",
      "  % self.max_iter, ConvergenceWarning)\n",
      "/Users/lennartgundelach/anaconda3/envs/cheminfo_WS1/lib/python3.7/site-packages/sklearn/neural_network/multilayer_perceptron.py:566: ConvergenceWarning: Stochastic Optimizer: Maximum iterations (5000) reached and the optimization hasn't converged yet.\n",
      "  % self.max_iter, ConvergenceWarning)\n",
      "/Users/lennartgundelach/anaconda3/envs/cheminfo_WS1/lib/python3.7/site-packages/sklearn/neural_network/multilayer_perceptron.py:566: ConvergenceWarning: Stochastic Optimizer: Maximum iterations (5000) reached and the optimization hasn't converged yet.\n",
      "  % self.max_iter, ConvergenceWarning)\n",
      "/Users/lennartgundelach/anaconda3/envs/cheminfo_WS1/lib/python3.7/site-packages/sklearn/neural_network/multilayer_perceptron.py:566: ConvergenceWarning: Stochastic Optimizer: Maximum iterations (5000) reached and the optimization hasn't converged yet.\n",
      "  % self.max_iter, ConvergenceWarning)\n",
      "/Users/lennartgundelach/anaconda3/envs/cheminfo_WS1/lib/python3.7/site-packages/sklearn/neural_network/multilayer_perceptron.py:566: ConvergenceWarning: Stochastic Optimizer: Maximum iterations (5000) reached and the optimization hasn't converged yet.\n",
      "  % self.max_iter, ConvergenceWarning)\n",
      "/Users/lennartgundelach/anaconda3/envs/cheminfo_WS1/lib/python3.7/site-packages/sklearn/neural_network/multilayer_perceptron.py:566: ConvergenceWarning: Stochastic Optimizer: Maximum iterations (5000) reached and the optimization hasn't converged yet.\n",
      "  % self.max_iter, ConvergenceWarning)\n",
      "/Users/lennartgundelach/anaconda3/envs/cheminfo_WS1/lib/python3.7/site-packages/sklearn/neural_network/multilayer_perceptron.py:566: ConvergenceWarning: Stochastic Optimizer: Maximum iterations (5000) reached and the optimization hasn't converged yet.\n",
      "  % self.max_iter, ConvergenceWarning)\n"
     ]
    }
   ],
   "source": [
    "list_of_predictions=[]\n",
    "for i in range(1,50):\n",
    "    mlp = MLPRegressor(max_iter=5000,hidden_layer_sizes=(3,2,2))\n",
    "    mlp.fit(principalComponents,y)\n",
    "    y_pred = mlp.predict(principalComponents_test)\n",
    "    stats = model_pred_eval(y_pred,y_test)\n",
    "    stats['score']=mlp.score(principalComponents,y)\n",
    "    list_of_predictions.append(stats)\n"
   ]
  },
  {
   "cell_type": "code",
   "execution_count": null,
   "metadata": {},
   "outputs": [],
   "source": []
  },
  {
   "cell_type": "code",
   "execution_count": 176,
   "metadata": {},
   "outputs": [
    {
     "data": {
      "text/plain": [
       "2.114965759986777"
      ]
     },
     "execution_count": 176,
     "metadata": {},
     "output_type": "execute_result"
    }
   ],
   "source": [
    "\n",
    "rmse_list = []\n",
    "for stats_dict in list_of_predictions:\n",
    "    rmse_list.append(stats_dict['RMSE'])\n",
    "rmse_list = np.array(rmse_list)\n",
    "min_index_rmse = np.where(rmse_list == rmse_list.min())[0][0]\n",
    "rmse_list[min_index_rmse]"
   ]
  },
  {
   "cell_type": "code",
   "execution_count": 177,
   "metadata": {},
   "outputs": [
    {
     "name": "stdout",
     "output_type": "stream",
     "text": [
      "0.746186782323554\n",
      "5.42511526112805\n"
     ]
    }
   ],
   "source": [
    "score_list = []\n",
    "for stats_dict in list_of_predictions:\n",
    "    score_list.append(stats_dict['score'])\n",
    "score_list = np.array(score_list)\n",
    "min_index_score = np.where(score_list == score_list.max())[0][0]\n",
    "print (score_list[min_index_score])\n",
    "print (rmse_list[min_index_score])"
   ]
  },
  {
   "cell_type": "code",
   "execution_count": 150,
   "metadata": {},
   "outputs": [
    {
     "data": {
      "text/plain": [
       "{'mean_abs_error': 1.4641428520874038,\n",
       " 'median_abs_error': 0.9701468529273184,\n",
       " 'median_accuracy': 78.75153465557278,\n",
       " 'R2': 0.6408590937337939,\n",
       " 'RMSE': 1.8783143470422405,\n",
       " 'min_error': 0.1578409643685461,\n",
       " 'max_error': 5.000398444632233,\n",
       " 'score': 0.6462762551110612}"
      ]
     },
     "execution_count": 150,
     "metadata": {},
     "output_type": "execute_result"
    }
   ],
   "source": [
    "list_of_predictions[min_index]"
   ]
  },
  {
   "cell_type": "code",
   "execution_count": 86,
   "metadata": {},
   "outputs": [],
   "source": [
    "total = [0]*len(list_of_predictions[0])\n",
    "for pred in list_of_predictions:\n",
    "    total += pred\n",
    "y_average = total/len(list_of_predictions)"
   ]
  },
  {
   "cell_type": "code",
   "execution_count": 87,
   "metadata": {},
   "outputs": [
    {
     "name": "stdout",
     "output_type": "stream",
     "text": [
      "Mean abs error:  2.3847689247318726\n",
      "Median abs error:  1.4978084163493028\n",
      "Accuracy from median:  76.80681621294846 %\n",
      "R2 value is:  -0.2856299522124437\n",
      "Mean squared error:  12.629543679040781\n"
     ]
    },
    {
     "data": {
      "text/plain": [
       "<matplotlib.collections.PathCollection at 0x112a01160>"
      ]
     },
     "execution_count": 87,
     "metadata": {},
     "output_type": "execute_result"
    },
    {
     "data": {
      "image/png": "[encoded data removed]",
      "text/plain": [
       "<Figure size 432x288 with 1 Axes>"
      ]
     },
     "metadata": {
      "needs_background": "light"
     },
     "output_type": "display_data"
    }
   ],
   "source": [
    "model_pred_eval(y_average,y_test)\n",
    "plt.scatter(y_average,y_test)"
   ]
  },
  {
   "cell_type": "markdown",
   "metadata": {},
   "source": [
    "## Carzy method"
   ]
  },
  {
   "cell_type": "code",
   "execution_count": null,
   "metadata": {},
   "outputs": [],
   "source": [
    "from sklearn.model_selection import train_test_split\n",
    "X_train, X_test, y_train, y_test = train_test_split(X, y)"
   ]
  }
 ],
 "metadata": {
  "kernelspec": {
   "display_name": "cheminfo_WS1",
   "language": "python",
   "name": "cheminfo_ws1"
  },
  "language_info": {
   "codemirror_mode": {
    "name": "ipython",
    "version": 3
   },
   "file_extension": ".py",
   "mimetype": "text/x-python",
   "name": "python",
   "nbconvert_exporter": "python",
   "pygments_lexer": "ipython3",
   "version": "3.7.3"
  }
 },
 "nbformat": 4,
 "nbformat_minor": 2
}
