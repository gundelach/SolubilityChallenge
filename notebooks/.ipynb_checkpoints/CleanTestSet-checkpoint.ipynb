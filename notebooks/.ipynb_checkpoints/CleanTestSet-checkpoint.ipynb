{
 "cells": [
  {
   "cell_type": "markdown",
   "metadata": {},
   "source": [
    "#  Clean up test set data"
   ]
  },
  {
   "cell_type": "code",
   "execution_count": 32,
   "metadata": {},
   "outputs": [],
   "source": [
    "import pandas as pd"
   ]
  },
  {
   "cell_type": "code",
   "execution_count": 33,
   "metadata": {},
   "outputs": [],
   "source": [
    "test_set = pd.read_csv('../data/raw/test_subset.csv')"
   ]
  },
  {
   "cell_type": "code",
   "execution_count": 34,
   "metadata": {},
   "outputs": [],
   "source": [
    "#df[df['model'].str.match('Mac')]\n",
    "# find the strings which indicate lacking data and the index on which they occur\n",
    "del_list = list(test_set[test_set['S (_g/L)'].str.match('TOO SOLUBLE')].index)\n",
    "# get ridd of those indexes \n",
    "clean_test = test_set.drop(del_list)\n",
    "# reset index count\n",
    "clean_test = clean_test.reset_index(drop=True)\n",
    "# changy type of float\n",
    "clean_test['S (_g/L)']=clean_test['S (_g/L)'].astype('float64')\n",
    "# creaty new column in units mM which is mmol/L\n",
    "clean_test['S0 (mM)'] = clean_test['S (_g/L)'] * 1/clean_test['MW'] * 10**(3)"
   ]
  },
  {
   "cell_type": "code",
   "execution_count": 35,
   "metadata": {},
   "outputs": [],
   "source": [
    "clean_test.to_csv('../data/processed/test_subset.csv',index_label=False)"
   ]
  },
  {
   "cell_type": "code",
   "execution_count": null,
   "metadata": {},
   "outputs": [],
   "source": []
  }
 ],
 "metadata": {
  "kernelspec": {
   "display_name": "cheminfo_WS1",
   "language": "python",
   "name": "cheminfo_ws1"
  },
  "language_info": {
   "codemirror_mode": {
    "name": "ipython",
    "version": 3
   },
   "file_extension": ".py",
   "mimetype": "text/x-python",
   "name": "python",
   "nbconvert_exporter": "python",
   "pygments_lexer": "ipython3",
   "version": "3.7.3"
  }
 },
 "nbformat": 4,
 "nbformat_minor": 2
}
